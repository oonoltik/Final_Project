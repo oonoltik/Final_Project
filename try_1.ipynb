{
 "cells": [
  {
   "cell_type": "code",
   "execution_count": 1,
   "id": "75a9e89c",
   "metadata": {},
   "outputs": [
    {
     "name": "stdout",
     "output_type": "stream",
     "text": [
      "try\n"
     ]
    }
   ],
   "source": [
    "target_names = ['Confirmed', 'Deaths', 'Recovered', 'Active','Day_increase_Deaths',\n",
    "       'Day_increase_Recovered', 'Day_increase_Active']\n",
    "target_name = 'Day_increase_Deaths'"
   ]
  },
  {
   "cell_type": "code",
   "execution_count": null,
   "id": "3ebcffab",
   "metadata": {},
   "outputs": [],
   "source": [
    "print(num,'try')\n",
    "send_try = num+10"
   ]
  }
 ],
 "metadata": {
  "kernelspec": {
   "display_name": "Python 3 (ipykernel)",
   "language": "python",
   "name": "python3"
  },
  "language_info": {
   "codemirror_mode": {
    "name": "ipython",
    "version": 3
   },
   "file_extension": ".py",
   "mimetype": "text/x-python",
   "name": "python",
   "nbconvert_exporter": "python",
   "pygments_lexer": "ipython3",
   "version": "3.9.7"
  }
 },
 "nbformat": 4,
 "nbformat_minor": 5
}
