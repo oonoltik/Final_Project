{
 "cells": [
  {
   "cell_type": "markdown",
   "id": "30bbac64",
   "metadata": {},
   "source": [
    "1.\tПо уровню загрязнения воздуха – объедениям датасеты за все 4-е квартала 2021 г. (waqi-covid19-airqualitydata-2021Q1 … 4 . cxv) в один датасет"
   ]
  },
  {
   "cell_type": "code",
   "execution_count": 27,
   "id": "7fe9ddcb",
   "metadata": {},
   "outputs": [],
   "source": [
    "import pandas as pd    \n",
    "from pathlib import Path\n",
    "import os"
   ]
  },
  {
   "cell_type": "code",
   "execution_count": 28,
   "id": "47a8d3f2",
   "metadata": {},
   "outputs": [],
   "source": [
    "PREPARED_DATASET_Polution_PATH = 'joined_dataset_pollution.csv'\n",
    "Start_datasets_pollution_PATH = \"./Start_datasets_pollution\""
   ]
  },
  {
   "cell_type": "code",
   "execution_count": 29,
   "id": "3aa03b8b",
   "metadata": {},
   "outputs": [
    {
     "data": {
      "text/plain": [
       "['waqi-covid19-airqualitydata-2021Q1.csv',\n",
       " 'waqi-covid19-airqualitydata-2021Q2.csv',\n",
       " 'waqi-covid19-airqualitydata-2021Q3.csv',\n",
       " 'waqi-covid19-airqualitydata-2021Q4.csv']"
      ]
     },
     "execution_count": 29,
     "metadata": {},
     "output_type": "execute_result"
    }
   ],
   "source": [
    "os.listdir(Start_datasets_pollution_PATH)"
   ]
  },
  {
   "cell_type": "code",
   "execution_count": 30,
   "id": "5fc8ca20",
   "metadata": {},
   "outputs": [
    {
     "data": {
      "text/html": [
       "<div>\n",
       "<style scoped>\n",
       "    .dataframe tbody tr th:only-of-type {\n",
       "        vertical-align: middle;\n",
       "    }\n",
       "\n",
       "    .dataframe tbody tr th {\n",
       "        vertical-align: top;\n",
       "    }\n",
       "\n",
       "    .dataframe thead th {\n",
       "        text-align: right;\n",
       "    }\n",
       "</style>\n",
       "<table border=\"1\" class=\"dataframe\">\n",
       "  <thead>\n",
       "    <tr style=\"text-align: right;\">\n",
       "      <th></th>\n",
       "      <th>Date</th>\n",
       "      <th>Country</th>\n",
       "      <th>City</th>\n",
       "      <th>Specie</th>\n",
       "      <th>count</th>\n",
       "      <th>min</th>\n",
       "      <th>max</th>\n",
       "      <th>median</th>\n",
       "      <th>variance</th>\n",
       "    </tr>\n",
       "  </thead>\n",
       "  <tbody>\n",
       "    <tr>\n",
       "      <th>0</th>\n",
       "      <td>2021-01-28</td>\n",
       "      <td>AE</td>\n",
       "      <td>Abu Dhabi</td>\n",
       "      <td>so2</td>\n",
       "      <td>120</td>\n",
       "      <td>2.1</td>\n",
       "      <td>13.2</td>\n",
       "      <td>4.1</td>\n",
       "      <td>49.87</td>\n",
       "    </tr>\n",
       "    <tr>\n",
       "      <th>1</th>\n",
       "      <td>2021-02-13</td>\n",
       "      <td>AE</td>\n",
       "      <td>Abu Dhabi</td>\n",
       "      <td>so2</td>\n",
       "      <td>120</td>\n",
       "      <td>2.6</td>\n",
       "      <td>22.3</td>\n",
       "      <td>4.6</td>\n",
       "      <td>101.13</td>\n",
       "    </tr>\n",
       "    <tr>\n",
       "      <th>2</th>\n",
       "      <td>2021-03-14</td>\n",
       "      <td>AE</td>\n",
       "      <td>Abu Dhabi</td>\n",
       "      <td>so2</td>\n",
       "      <td>120</td>\n",
       "      <td>2.1</td>\n",
       "      <td>12.2</td>\n",
       "      <td>4.1</td>\n",
       "      <td>34.05</td>\n",
       "    </tr>\n",
       "    <tr>\n",
       "      <th>3</th>\n",
       "      <td>2021-03-21</td>\n",
       "      <td>AE</td>\n",
       "      <td>Abu Dhabi</td>\n",
       "      <td>so2</td>\n",
       "      <td>115</td>\n",
       "      <td>3.6</td>\n",
       "      <td>14.7</td>\n",
       "      <td>5.6</td>\n",
       "      <td>49.80</td>\n",
       "    </tr>\n",
       "    <tr>\n",
       "      <th>4</th>\n",
       "      <td>2021-02-11</td>\n",
       "      <td>AE</td>\n",
       "      <td>Abu Dhabi</td>\n",
       "      <td>so2</td>\n",
       "      <td>105</td>\n",
       "      <td>2.1</td>\n",
       "      <td>16.3</td>\n",
       "      <td>4.6</td>\n",
       "      <td>69.70</td>\n",
       "    </tr>\n",
       "    <tr>\n",
       "      <th>...</th>\n",
       "      <td>...</td>\n",
       "      <td>...</td>\n",
       "      <td>...</td>\n",
       "      <td>...</td>\n",
       "      <td>...</td>\n",
       "      <td>...</td>\n",
       "      <td>...</td>\n",
       "      <td>...</td>\n",
       "      <td>...</td>\n",
       "    </tr>\n",
       "    <tr>\n",
       "      <th>2155803</th>\n",
       "      <td>2022-01-02</td>\n",
       "      <td>IN</td>\n",
       "      <td>Kolkata</td>\n",
       "      <td>pm25</td>\n",
       "      <td>60</td>\n",
       "      <td>147.0</td>\n",
       "      <td>212.0</td>\n",
       "      <td>167.0</td>\n",
       "      <td>1660.24</td>\n",
       "    </tr>\n",
       "    <tr>\n",
       "      <th>2155804</th>\n",
       "      <td>2021-11-14</td>\n",
       "      <td>IN</td>\n",
       "      <td>Kolkata</td>\n",
       "      <td>pm25</td>\n",
       "      <td>264</td>\n",
       "      <td>57.0</td>\n",
       "      <td>162.0</td>\n",
       "      <td>105.0</td>\n",
       "      <td>7079.52</td>\n",
       "    </tr>\n",
       "    <tr>\n",
       "      <th>2155805</th>\n",
       "      <td>2021-11-24</td>\n",
       "      <td>IN</td>\n",
       "      <td>Kolkata</td>\n",
       "      <td>pm25</td>\n",
       "      <td>239</td>\n",
       "      <td>55.0</td>\n",
       "      <td>205.0</td>\n",
       "      <td>165.0</td>\n",
       "      <td>3726.12</td>\n",
       "    </tr>\n",
       "    <tr>\n",
       "      <th>2155806</th>\n",
       "      <td>2021-12-10</td>\n",
       "      <td>IN</td>\n",
       "      <td>Kolkata</td>\n",
       "      <td>pm25</td>\n",
       "      <td>239</td>\n",
       "      <td>52.0</td>\n",
       "      <td>282.0</td>\n",
       "      <td>145.0</td>\n",
       "      <td>13453.30</td>\n",
       "    </tr>\n",
       "    <tr>\n",
       "      <th>2155807</th>\n",
       "      <td>2021-12-22</td>\n",
       "      <td>IN</td>\n",
       "      <td>Kolkata</td>\n",
       "      <td>pm25</td>\n",
       "      <td>248</td>\n",
       "      <td>142.0</td>\n",
       "      <td>417.0</td>\n",
       "      <td>180.0</td>\n",
       "      <td>21134.80</td>\n",
       "    </tr>\n",
       "  </tbody>\n",
       "</table>\n",
       "<p>2155808 rows × 9 columns</p>\n",
       "</div>"
      ],
      "text/plain": [
       "               Date Country       City Specie  count    min    max  median  \\\n",
       "0        2021-01-28      AE  Abu Dhabi    so2    120    2.1   13.2     4.1   \n",
       "1        2021-02-13      AE  Abu Dhabi    so2    120    2.6   22.3     4.6   \n",
       "2        2021-03-14      AE  Abu Dhabi    so2    120    2.1   12.2     4.1   \n",
       "3        2021-03-21      AE  Abu Dhabi    so2    115    3.6   14.7     5.6   \n",
       "4        2021-02-11      AE  Abu Dhabi    so2    105    2.1   16.3     4.6   \n",
       "...             ...     ...        ...    ...    ...    ...    ...     ...   \n",
       "2155803  2022-01-02      IN    Kolkata   pm25     60  147.0  212.0   167.0   \n",
       "2155804  2021-11-14      IN    Kolkata   pm25    264   57.0  162.0   105.0   \n",
       "2155805  2021-11-24      IN    Kolkata   pm25    239   55.0  205.0   165.0   \n",
       "2155806  2021-12-10      IN    Kolkata   pm25    239   52.0  282.0   145.0   \n",
       "2155807  2021-12-22      IN    Kolkata   pm25    248  142.0  417.0   180.0   \n",
       "\n",
       "         variance  \n",
       "0           49.87  \n",
       "1          101.13  \n",
       "2           34.05  \n",
       "3           49.80  \n",
       "4           69.70  \n",
       "...           ...  \n",
       "2155803   1660.24  \n",
       "2155804   7079.52  \n",
       "2155805   3726.12  \n",
       "2155806  13453.30  \n",
       "2155807  21134.80  \n",
       "\n",
       "[2155808 rows x 9 columns]"
      ]
     },
     "execution_count": 30,
     "metadata": {},
     "output_type": "execute_result"
    }
   ],
   "source": [
    "data_dir = Path(Start_datasets_pollution_PATH)\n",
    "\n",
    "df = pd.concat([pd.read_csv(f) for f in data_dir.glob(\"*.csv\")], ignore_index=True)\n",
    "df"
   ]
  },
  {
   "cell_type": "code",
   "execution_count": 31,
   "id": "770f021d",
   "metadata": {},
   "outputs": [
    {
     "name": "stdout",
     "output_type": "stream",
     "text": [
      "2020-12-30\n",
      "2020-12-28\n",
      "2020-12-29\n",
      "2020-12-31\n",
      "2022-01-01\n",
      "2022-01-02\n"
     ]
    }
   ],
   "source": [
    "condition = '2021'\n",
    "def dates_unique(df, condition): \n",
    "    dates_unique = df.Date.unique()\n",
    "    for i in dates_unique:\n",
    "        if condition in i:\n",
    "            pass\n",
    "        else:\n",
    "            print(i)\n",
    "condition = '2021'            \n",
    "dates_unique(df, condition)         "
   ]
  },
  {
   "cell_type": "code",
   "execution_count": 32,
   "id": "333942f7",
   "metadata": {},
   "outputs": [],
   "source": [
    "#Видим, что поле дата все равно папопали даты содержащие 2022 и 2020 год убираем их, оставляя в поле только 2021 год\n",
    "\n",
    "df = df[df['Date'].apply(lambda x: condition in x)]"
   ]
  },
  {
   "cell_type": "code",
   "execution_count": 33,
   "id": "95749d7e",
   "metadata": {},
   "outputs": [],
   "source": [
    "# перепроверяем\n",
    "dates_unique(df, condition) "
   ]
  },
  {
   "cell_type": "markdown",
   "id": "f62a9e6c",
   "metadata": {},
   "source": [
    "Теперь все в порядке и в датафреме остались данные только за только 2021 год"
   ]
  },
  {
   "cell_type": "code",
   "execution_count": 34,
   "id": "417bc9b5",
   "metadata": {},
   "outputs": [],
   "source": [
    "# Сохраняем датафрем в файл\n",
    "df.to_csv(PREPARED_DATASET_Polution_PATH, index=False)"
   ]
  }
 ],
 "metadata": {
  "kernelspec": {
   "display_name": "Python 3 (ipykernel)",
   "language": "python",
   "name": "python3"
  },
  "language_info": {
   "codemirror_mode": {
    "name": "ipython",
    "version": 3
   },
   "file_extension": ".py",
   "mimetype": "text/x-python",
   "name": "python",
   "nbconvert_exporter": "python",
   "pygments_lexer": "ipython3",
   "version": "3.9.7"
  }
 },
 "nbformat": 4,
 "nbformat_minor": 5
}
